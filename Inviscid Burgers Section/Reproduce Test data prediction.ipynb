{
 "cells": [
  {
   "cell_type": "markdown",
   "metadata": {},
   "source": [
    "# Reproduce test data predictions"
   ]
  },
  {
   "cell_type": "code",
   "execution_count": null,
   "metadata": {},
   "outputs": [],
   "source": [
    "import numpy as np\n",
    "import matplotlib.pyplot as plt \n",
    "import pickle\n",
    "import tensorflow\n",
    "from utils import *\n",
    "from tqdm.notebook import tqdm\n",
    "from ipywidgets import *"
   ]
  },
  {
   "cell_type": "code",
   "execution_count": null,
   "metadata": {},
   "outputs": [],
   "source": [
    "#load test data\n",
    "test_data_finite = np.load('Data/test data invscid burgers finiteNet.npy') \n",
    "test_data_weno5 = np.load('Data/test data invscid burgers weno5.npy')\n",
    "test_data_exact = np.load('Data/test data invscid burgers exact.npy') \n",
    "\n",
    "#load model\n",
    "loaded_model = tensorflow.keras.models.load_model('SavedModels/burger std=0.7968797813840656 mean=1.4804453986909523 loss=0.0019.h5' ,custom_objects={'LeakyReLU':tensorflow.keras.layers.LeakyReLU()})\n",
    "std  = 0.7968797813840656 ; mean = 1.4804453986909523"
   ]
  },
  {
   "cell_type": "code",
   "execution_count": null,
   "metadata": {},
   "outputs": [],
   "source": [
    "chunks_slider = IntRangeSlider(value=[0, 0],min=0,max=9,step=1,description='Chunks:',disabled=False,continuous_update=False,orientation='horizontal',readout=True,readout_format='d',)\n",
    "tests_slider = IntSlider(value=100,min=0,max=1000,step=1,description='Tests#:',disabled=False,continuous_update=False,orientation='horizontal',readout=True,readout_format='d',)\n",
    "\n",
    "@interact(chunks=chunks_slider,tests = tests_slider,start=False)\n",
    "def test_model(chunks,tests,start):\n",
    "    std  = 0.7968797813840656 ; mean = 1.4804453986909523\n",
    "    chunks = np.arange(chunks[0],chunks[1]+1)\n",
    "    \n",
    "    if start : \n",
    "        \n",
    "        prediction_solution = np.zeros((tests,101,12,12,1))\n",
    "        \n",
    "        for chunk in (chunks):\n",
    "\n",
    "            chunk_indices = np.arange(chunk,101,10)\n",
    "\n",
    "            print(f'Chunk = {chunk}\\nInput snapshot at {chunk_indices[0]} \\nPredicted snapshots at {chunk_indices[1:]}')\n",
    "\n",
    "            for test in tqdm(range(tests)):\n",
    "\n",
    "                #preprocess input\n",
    "                test_input = ( test_data_weno5[[test],chunk_indices[0]].reshape(1,1,10,10,1) - mean ) /std\n",
    "                padded_test_input = np.zeros((1,1,12,12,1))\n",
    "                padded_test_input[:,:,1:-1,1:-1,:] = test_input \n",
    "                test_prediction = recursive_prediction(loaded_model,padded_test_input,10,12)\n",
    "\n",
    "                #place the prediction at the appropriate test index and time index \n",
    "                prediction_solution[test:test+1,chunk_indices[1:]] = test_prediction[:,:len(chunk_indices[1:])]\n",
    "        \n",
    "        np.save('Data/test data invscid burgers DiffusionNet.npy' , (prediction_solution[:,:,1:-1,1:-1,:].reshape(tests,101,100) * std ) + mean )\n",
    "        \n",
    "        print('Saved...')"
   ]
  }
 ],
 "metadata": {
  "kernelspec": {
   "display_name": "Python 3",
   "language": "python",
   "name": "python3"
  },
  "language_info": {
   "codemirror_mode": {
    "name": "ipython",
    "version": 3
   },
   "file_extension": ".py",
   "mimetype": "text/x-python",
   "name": "python",
   "nbconvert_exporter": "python",
   "pygments_lexer": "ipython3",
   "version": "3.7.7"
  }
 },
 "nbformat": 4,
 "nbformat_minor": 4
}
