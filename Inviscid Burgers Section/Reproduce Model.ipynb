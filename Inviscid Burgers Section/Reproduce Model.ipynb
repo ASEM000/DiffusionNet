{
 "cells": [
  {
   "cell_type": "markdown",
   "metadata": {},
   "source": [
    "# Reproduce Model"
   ]
  },
  {
   "cell_type": "code",
   "execution_count": 8,
   "metadata": {},
   "outputs": [],
   "source": [
    "import numpy as np\n",
    "from generator import *   # data generator\n",
    "from DiffusionNet import * # Model\n",
    "import tensorflow"
   ]
  },
  {
   "cell_type": "markdown",
   "metadata": {},
   "source": [
    "## Load Training data "
   ]
  },
  {
   "cell_type": "markdown",
   "metadata": {},
   "source": [
    "- Generated from https://arxiv.org/abs/2002.03014 , https://github.com/FiniteNetICML2020Code/FiniteNet)"
   ]
  },
  {
   "cell_type": "code",
   "execution_count": 9,
   "metadata": {},
   "outputs": [],
   "source": [
    "x1 = np.load('Data/training data invscid burgers_1.npy')\n",
    "x2 = np.load('Data/training data invscid burgers_2.npy')\n",
    "x = np.concatenate([x1,x2]).reshape(2000,101,10,10,1)  # Download data from \n",
    "mean = np.mean(x) ; std = np.std(x) ;\n",
    "x = x.reshape(2000,101,10,10,1)  ; # Reshape to 5D tensor\n",
    "x = (x-mean)/std  # Standardization\n",
    "z = np.zeros((2000,101,12,12,1)) ; z[:,:,1:-1,1:-1,:]  = x  # create padded array for suitable input size (i.e. multiple of 12) for DiffusionNet\n",
    "xr = np.copy(z)  ; \n",
    "for  i in range(6) : xr= np.concatenate([xr,xr]) # repeat training data "
   ]
  },
  {
   "cell_type": "code",
   "execution_count": null,
   "metadata": {},
   "outputs": [],
   "source": [
    "# data generator\n",
    "train_data_batches =generate_data_batches(xr,steps=1,max_iters = 100,seed=42,batch_size=32,step_size=10,batches=xr.shape[0]//32,progress=True) \n",
    "\n",
    "# create model\n",
    "model = dfn() \n",
    "\n",
    "# callbacks\n",
    "early_stopping = tensorflow.keras.callbacks.EarlyStopping(monitor='loss',min_delta=5e-5, patience=25, verbose=1, mode='auto',baseline=None, restore_best_weights=False)\n",
    "csv_logger = tensorflow.keras.callbacks.CSVLogger('SavedLogs/TrainValidation.log')\n",
    "reduce_lr_callback = tensorflow.keras.callbacks.ReduceLROnPlateau(monitor = 'loss', factor = 0.5, patience = 3, verbose = 1, cooldown=1,min_delta = 1e-4,min_lr=1e-8 )\n",
    "model_checkpoint_callback = tensorflow.keras.callbacks.ModelCheckpoint('ReproducedModels/Reproduced Burgers model.h5', monitor='loss', verbose=1, save_best_only=False,save_weights_only=False, mode='auto', save_freq='epoch',)\n",
    "\n",
    "#train model\n",
    "model.fit(      data_generator(train_data_batches),\n",
    "                steps_per_epoch=len(train_data_batches),\n",
    "                verbose=1,\n",
    "                epochs=100,\n",
    "                callbacks=[reduce_lr_callback,csv_logger,early_stopping],\n",
    "                )"
   ]
  }
 ],
 "metadata": {
  "hide_input": false,
  "kernelspec": {
   "display_name": "Python 3",
   "language": "python",
   "name": "python3"
  },
  "language_info": {
   "codemirror_mode": {
    "name": "ipython",
    "version": 3
   },
   "file_extension": ".py",
   "mimetype": "text/x-python",
   "name": "python",
   "nbconvert_exporter": "python",
   "pygments_lexer": "ipython3",
   "version": "3.7.7"
  },
  "latex_envs": {
   "LaTeX_envs_menu_present": true,
   "autoclose": false,
   "autocomplete": true,
   "bibliofile": "biblio.bib",
   "cite_by": "apalike",
   "current_citInitial": 1,
   "eqLabelWithNumbers": true,
   "eqNumInitial": 1,
   "hotkeys": {
    "equation": "Ctrl-E",
    "itemize": "Ctrl-I"
   },
   "labels_anchors": false,
   "latex_user_defs": false,
   "report_style_numbering": false,
   "user_envs_cfg": false
  },
  "varInspector": {
   "cols": {
    "lenName": 16,
    "lenType": 16,
    "lenVar": 40
   },
   "kernels_config": {
    "python": {
     "delete_cmd_postfix": "",
     "delete_cmd_prefix": "del ",
     "library": "var_list.py",
     "varRefreshCmd": "print(var_dic_list())"
    },
    "r": {
     "delete_cmd_postfix": ") ",
     "delete_cmd_prefix": "rm(",
     "library": "var_list.r",
     "varRefreshCmd": "cat(var_dic_list()) "
    }
   },
   "types_to_exclude": [
    "module",
    "function",
    "builtin_function_or_method",
    "instance",
    "_Feature"
   ],
   "window_display": false
  }
 },
 "nbformat": 4,
 "nbformat_minor": 4
}
