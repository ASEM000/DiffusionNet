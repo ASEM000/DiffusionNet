{
 "cells": [
  {
   "cell_type": "markdown",
   "metadata": {},
   "source": [
    "# Reproduce Inviscid burgers Section"
   ]
  },
  {
   "cell_type": "markdown",
   "metadata": {},
   "source": [
    "## Data sample figure"
   ]
  },
  {
   "cell_type": "code",
   "execution_count": null,
   "metadata": {},
   "outputs": [],
   "source": [
    "import numpy as np\n",
    "import matplotlib.pyplot as plt \n",
    "\n",
    "x = np.load('Data/training data invscid burgers.npy')[:]  # Download data from \n",
    "plt.figure(figsize=(10,10));plt.tight_layout();plt.subplot(1,2,1)\n",
    "plt.imshow(x[1]);plt.xlabel('x');plt.ylabel('t')\n",
    "plt.subplot(1,2,2);plt.imshow(x[50]);plt.xlabel('x');plt.ylabel('t')\n",
    "# plt.savefig('burger.svg')"
   ]
  },
  {
   "cell_type": "markdown",
   "metadata": {},
   "source": [
    "## Error histogram figure"
   ]
  },
  {
   "cell_type": "code",
   "execution_count": null,
   "metadata": {},
   "outputs": [],
   "source": [
    "import pickle\n",
    "import tensorflow\n",
    "from utils import *\n",
    "from tqdm.notebook import tqdm"
   ]
  },
  {
   "cell_type": "code",
   "execution_count": null,
   "metadata": {},
   "outputs": [],
   "source": [
    "#load test data\n",
    "test_data_finite = np.load('Data/test data invscid burgers finiteNet.npy') \n",
    "test_data_weno5 = np.load('Data/test data invscid burgers weno5.npy')\n",
    "test_data_exact = np.load('Data/test data invscid burgers exact.npy') \n",
    "test_data_diffusion = np.load('Data/test data invscid burgers DiffusionNet.npy')"
   ]
  },
  {
   "cell_type": "markdown",
   "metadata": {},
   "source": [
    "### MSE calculation"
   ]
  },
  {
   "cell_type": "code",
   "execution_count": null,
   "metadata": {},
   "outputs": [],
   "source": [
    "'''\n",
    "error log => \n",
    "    Dictionary [ chunk# ] [ test# ] [ mse_diffuison_exact ]   => MSE between DiffuisonNet prediction and exact solution\n",
    "    Dictionary [ chunk# ] [ test# ] [ mse_finite_exact ]      => MSE between FiniteNet prediction and exact solution\n",
    "    Dictionary [ chunk# ] [ test# ] [ mse_weno5_exact ]       => MSE between WENO5 solution and exact solution\n",
    "    \n",
    "    chunk := -1 => all chunks error\n",
    "'''\n",
    "\n",
    "\n",
    "error_log =  {}\n",
    "chunks=10\n",
    "tests=1000\n",
    "\n",
    "    \n",
    "for ci in range(chunks):\n",
    "    indices = np.arange(ci+10,101,10)\n",
    "    print(f'Chunk#{ci} at {indices}')\n",
    "    \n",
    "    error_log_chunk={}\n",
    "    \n",
    "    for ti in tqdm(range(tests)):\n",
    "        \n",
    "        mse_diffuison_exact=   mse(test_data_diffusion[ti,indices],test_data_exact[ti,indices])\n",
    "        mse_finite_exact =     mse(test_data_finite[ti,indices],test_data_exact[ti,indices])\n",
    "        mse_weno5_exact=       mse(test_data_weno5[ti,indices],test_data_exact[ti,indices])\n",
    "    \n",
    "    \n",
    "    \n",
    "        error_log_chunk[ti]={'mse_diffusion_exact' : mse_diffuison_exact,\n",
    "                             'mse_finite_exact'    : mse_finite_exact,\n",
    "                             'mse_weno5_exact'     : mse_weno5_exact}\n",
    "        \n",
    "        \n",
    "    error_log[ci] = error_log_chunk\n",
    "\n",
    "    \n",
    "error_log_all={}\n",
    "print(\"Combined error of all chunks\")\n",
    "for ti in tqdm(range(1000)):\n",
    "    error_log_all[ti]=  { 'mse_diffusion_exact' : np.sum([error_log[ci][ti]['mse_diffusion_exact'] for ci in range(10)]) , \n",
    "                          'mse_finite_exact'    : np.sum([error_log[ci][ti]['mse_finite_exact']    for ci in range(10)]) ,\n",
    "                           'mse_weno5_exact'    :np.sum([error_log[ci][ti]['mse_weno5_exact']     for ci in range(10)])  }\n",
    "    \n",
    "error_log[-1] = error_log_all"
   ]
  },
  {
   "cell_type": "markdown",
   "metadata": {},
   "source": [
    "### Errorr ratio"
   ]
  },
  {
   "cell_type": "code",
   "execution_count": null,
   "metadata": {},
   "outputs": [],
   "source": [
    "#chunk = 0\n",
    "\n",
    "diffusion_to_weno ={}\n",
    "finite_to_weno ={}\n",
    "diffusion_to_finite ={}\n",
    "for ci in range(10):\n",
    "    diffusion_to_weno[ci] = np.array ([ error_log[0][ti]['mse_diffusion_exact'] / error_log[0][ti]['mse_weno5_exact'] for ti in range(1000)])\n",
    "    finite_to_weno[ci] = np.array ([ error_log[0][ti]['mse_finite_exact'] / error_log[0][ti]['mse_weno5_exact'] for ti in range(1000)])\n",
    "    diffusion_to_finite[ci] = np.array ([ error_log[0][ti]['mse_diffusion_exact'] / error_log[0][ti]['mse_finite_exact'] for ti in range(1000)])\n",
    "\n",
    "# all chunks\n",
    "diffusion_to_weno[-1] = np.array ([ error_log[-1][ti]['mse_diffusion_exact'] / error_log[-1][ti]['mse_weno5_exact'] for ti in range(1000)])\n",
    "finite_to_weno[-1] = np.array ([ error_log[-1][ti]['mse_finite_exact'] / error_log[-1][ti]['mse_weno5_exact'] for ti in range(1000)])\n",
    "diffusion_to_finite[-1] = np.array ([ error_log[-1][ti]['mse_diffusion_exact'] / error_log[-1][ti]['mse_finite_exact'] for ti in range(1000)])\n"
   ]
  },
  {
   "cell_type": "code",
   "execution_count": null,
   "metadata": {},
   "outputs": [],
   "source": [
    "diffusion_to_weno[0][diffusion_to_weno[0]<1].shape[0]"
   ]
  },
  {
   "cell_type": "markdown",
   "metadata": {},
   "source": [
    "### Instances with lower error than WENO5 / FiniteNet"
   ]
  },
  {
   "cell_type": "code",
   "execution_count": null,
   "metadata": {},
   "outputs": [],
   "source": [
    "print('Instances with lower error than WENO5 for chunk=0\\t\\t',diffusion_to_weno[0][diffusion_to_weno[0]<1].shape[0])\n",
    "print('Instances with lower error than FiniteNet for chunk=0\\t\\t',diffusion_to_finite[0][diffusion_to_finite[0]<1].shape[0])\n",
    "\n",
    "print('Instances with lower error than WENO5 for ALL chunks\\t\\t' , diffusion_to_weno[-1][diffusion_to_weno[-1]<1].shape[0])\n",
    "print('Instances with lower error than FiniteNet for ALL chunks\\t' , diffusion_to_finite[-1][diffusion_to_finite[-1]<1].shape[0])"
   ]
  },
  {
   "cell_type": "code",
   "execution_count": null,
   "metadata": {},
   "outputs": [],
   "source": [
    "import matplotlib.pyplot as plt\n",
    "\n",
    "plt.figure(figsize=(20,5))\n",
    "\n",
    "plt.subplot(1,3,1)\n",
    "plt.hist(diffusion_to_weno_all,bins=np.arange(0,5,0.05),alpha=0.5 ,label = '$DiffusionNet/WENO5$',color='red') \n",
    "plt.hist(finite_to_weno_all,bins=np.arange(0,5,0.05),alpha=0.5 ,label = '$FiniteNet/WENO5$',color='blue')\n",
    "plt.hist(diffusion_to_finite_all,bins=np.arange(0,5,0.05),alpha=0.5 ,label = '$DiffusionNet/FiniteNet$',color='green')\n",
    "\n",
    "plt.ylabel('$Frequency$');plt.xlabel('$Error  \\ ratio$')\n",
    "plt.title('$Error \\  comparison \\ for \\ \\Sigma C_i$')\n",
    "\n",
    "plt.legend()\n",
    "\n",
    "plt.subplot(1,3,2)\n",
    "\n",
    "plt.hist(diffusion_to_weno[0],bins=np.arange(0,5,0.05),alpha=0.5 ,label = '$DiffusionNet/WENO5$',color='red') \n",
    "plt.hist(finite_to_weno[0],bins=np.arange(0,5,0.05),alpha=0.5 ,label = '$FiniteNet/WENO5$',color='blue')\n",
    "plt.hist(diffusion_to_finite[0],bins=np.arange(0,5,0.05),alpha=0.5 ,label = '$DiffusionNet/FiniteNet$',color='green')\n",
    "\n",
    "plt.ylabel('$Frequency$');plt.xlabel('$Error  \\ ratio$')\n",
    "plt.title('$Error \\ comparison \\  for \\  C_1$')\n",
    "\n",
    "plt.legend()\n",
    "\n",
    "\n",
    "plt.subplot(1,3,3)\n",
    "f_bars= [ finite_to_weno[j][finite_to_weno[j]<1].shape[0] for j in range(10) ] ; f_bars.append(finite_to_weno[-1][finite_to_weno[-1]<1].shape[0])\n",
    "d_bars= [ diffusion_to_weno[j][diffusion_to_weno[j]<1].shape[0] for j in range(10) ] ; d_bars.append(diffusion_to_weno[-1][diffusion_to_weno[-1]<1].shape[0])\n",
    "fd_bars= [ diffusion_to_finite[j][diffusion_to_finite[j]<1].shape[0] for j in range(10) ] ; fd_bars.append(diffusion_to_finite[-1][diffusion_to_finite[-1]<1].shape[0])\n",
    "\n",
    "N = 11\n",
    "finite = f_bars  #(error_finite_weno[0][error_finite_weno[0]<1].shape, 35, 30, 35, 27)\n",
    "diffusion = d_bars\n",
    "diffusionFinite=fd_bars\n",
    "\n",
    "ind = np.arange(N) \n",
    "width = 0.25       \n",
    "plt.bar(ind, finite, width, label='$DiffusionNet$',color='red',alpha=0.5)\n",
    "plt.bar(ind + width, diffusion, width,label='$FiniteNet$',color='blue',alpha=0.5)\n",
    "# plt.bar(ind + 2*width, diffusionFinite, width,label='$FiniteNet$',color='green',alpha=0.5)\n",
    "plt.ylabel('$Frequency$')\n",
    "plt.title('$Instances \\ with error \\ lower \\ than \\ WENO5$')\n",
    "\n",
    "plt.xticks(ind + width / 2, ('$C1$','$C2$','$C3$','$C4$','$C5$','$C6$','$C7$','$C8$','$C9$','$C10$','$\\Sigma C$'))\n",
    "plt.legend(loc='center')\n",
    "\n",
    "\n",
    "plt.tight_layout()"
   ]
  },
  {
   "cell_type": "markdown",
   "metadata": {},
   "source": [
    "## Sample plot of Burgers figure"
   ]
  },
  {
   "cell_type": "code",
   "execution_count": null,
   "metadata": {},
   "outputs": [],
   "source": [
    "import matplotlib.pyplot as plt\n",
    "from ipywidgets import *\n",
    "\n",
    "sample_slider = IntSlider(value=150,min=0,max=1000,step=1,description='Test #:',disabled=False,continuous_update=False,orientation='horizontal',readout=True,readout_format='d',)\n",
    "\n",
    "\n",
    "\n",
    "@interact(sample=sample_slider)\n",
    "def plot_figure(sample):\n",
    "    t= np.arange(0,1,0.01)\n",
    "    plt.figure(figsize=(15,20))\n",
    "    \n",
    "\n",
    "\n",
    "    for i in range(1,11):\n",
    "\n",
    "        plt.subplot(5,2,i)\n",
    "\n",
    "        plt.plot(   t,test_data_exact[sample,i*10],'-k' ,linewidth=1)\n",
    "        plt.scatter(t,test_data_finite[sample,i*10]    ,alpha=.75,color='red',marker='x')\n",
    "        plt.scatter(t,test_data_weno5[sample,i*10]     ,alpha=.75,color='green',marker='+')\n",
    "        plt.scatter(t,test_data_diffusion[sample,i*10] ,alpha=.75,color='blue',marker='1')\n",
    "\n",
    "        plt.title(f'$Step={i*10} $')\n",
    "\n",
    "        plt.tight_layout()\n",
    "        plt.legend(['Exact', \n",
    "                    'FiniteNet  MSE={}e-6'.format(mse(test_data_finite[sample,i*10],test_data_exact[sample,i*10])  *1e6),\n",
    "                    'WENO5     MSE={}e-6'.format(mse(test_data_weno5[sample,i*10],test_data_exact[sample,i*10])  *1e6), \n",
    "                    'DiffusionNet MSE={}e-6'.format( mse(test_data_diffusion[sample,i*10],test_data_exact[sample,i*10])  *1e6),\n",
    "                   ])\n",
    "    \n",
    "\n",
    "# plt.savefig('dfn.svg')"
   ]
  }
 ],
 "metadata": {
  "kernelspec": {
   "display_name": "Python 3",
   "language": "python",
   "name": "python3"
  },
  "language_info": {
   "codemirror_mode": {
    "name": "ipython",
    "version": 3
   },
   "file_extension": ".py",
   "mimetype": "text/x-python",
   "name": "python",
   "nbconvert_exporter": "python",
   "pygments_lexer": "ipython3",
   "version": "3.7.7"
  }
 },
 "nbformat": 4,
 "nbformat_minor": 4
}
