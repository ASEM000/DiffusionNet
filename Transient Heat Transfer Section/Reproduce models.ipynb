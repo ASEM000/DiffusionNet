{
 "cells": [
  {
   "cell_type": "markdown",
   "metadata": {},
   "source": [
    "# Train and reproduce models"
   ]
  },
  {
   "cell_type": "markdown",
   "metadata": {},
   "source": [
    "## Imports"
   ]
  },
  {
   "cell_type": "code",
   "execution_count": null,
   "metadata": {},
   "outputs": [],
   "source": [
    "from solver import *  # import ADI solver\n",
    "from generator import *  # import training / validation data generator\n",
    "from DiffusionNet import dfn # import DiffusionNet model\n",
    "\n",
    "import numpy as np # general array operations\n",
    "import ray # parallel processing for data generation\n",
    "from tqdm.notebook import tqdm # display progress bar \n",
    "\n",
    "import h5py # for saving in HDF5 format\n",
    "from tensorflow.keras.models import Model  # machine learning library\n",
    "from tensorflow.keras.optimizers import * # machine learning library\n",
    "from tensorflow.keras.layers import * # machine learning library\n",
    "import tensorflow\n",
    "\n",
    "from ipywidgets import *  # import widgets\n",
    "import warnings\n",
    "warnings.filterwarnings(\"ignore\")"
   ]
  },
  {
   "cell_type": "code",
   "execution_count": null,
   "metadata": {
    "ExecuteTime": {
     "end_time": "2020-10-20T07:02:16.625562Z",
     "start_time": "2020-10-20T07:01:54.600362Z"
    }
   },
   "outputs": [],
   "source": [
    "# Initialize ray library\n",
    "ray.init()"
   ]
  },
  {
   "cell_type": "markdown",
   "metadata": {},
   "source": [
    "## Train"
   ]
  },
  {
   "cell_type": "code",
   "execution_count": null,
   "metadata": {},
   "outputs": [],
   "source": [
    "g=[12,24,48,96,192];s=[10,100];b=[100,1000,10_000]\n",
    "@interact(grid_size=g,step=s,batches=b,train=False)\n",
    "def grid_step_choice(grid_size,step,batches,train=False):\n",
    "    name= f'step={step} {grid_size}x{grid_size}'\n",
    "\n",
    "    if train :\n",
    "        print('Generating training and validation data..')\n",
    "        #generate data with grid size and step\n",
    "        train_data_batches,train_data_batches_bias,validation_data_batches = generate_training_validation(N=grid_size,S=step,B=batches)\n",
    "        \n",
    "        \n",
    "        print('Generating the model..')\n",
    "        #initialize the model\n",
    "        model = dfn()\n",
    "        \n",
    "    \n",
    "        print('\\nTraining..')\n",
    "        #callbacks\n",
    "        csv_logger = tensorflow.keras.callbacks.CSVLogger(f'ReproducedLogs/{name}.log')\n",
    "        early_stopping = tensorflow.keras.callbacks.EarlyStopping(monitor='loss',min_delta=5e-5, patience=5, verbose=1, mode='auto',baseline=None, restore_best_weights=False)\n",
    "        reduce_lr_callback = tensorflow.keras.callbacks.ReduceLROnPlateau(monitor = 'loss',factor = 0.5,patience = 3,verbose = 1,cooldown=1,min_delta = 1e-4,min_lr=1e-8 )\n",
    "        model_checkpoint_callback = tensorflow.keras.callbacks.ModelCheckpoint(f'ReproducedModels/{name}.h5', monitor='loss', verbose=1, save_best_only=False,save_weights_only=False, mode='auto', save_freq='epoch',)\n",
    "\n",
    "        #train\n",
    "        model.fit(data_generator({**train_data_batches,**train_data_batches_bias}),\n",
    "                  validation_data=data_generator(validation_data_batches),\n",
    "                  steps_per_epoch=len({**train_data_batches,**train_data_batches_bias}),\n",
    "                  validation_steps=len(validation_data_batches),\n",
    "                  verbose=1,\n",
    "                  epochs=100,\n",
    "                  callbacks=[reduce_lr_callback,early_stopping,csv_logger,model_checkpoint_callback],\n",
    "                 )"
   ]
  }
 ],
 "metadata": {
  "hide_input": false,
  "kernelspec": {
   "display_name": "Python 3",
   "language": "python",
   "name": "python3"
  },
  "language_info": {
   "codemirror_mode": {
    "name": "ipython",
    "version": 3
   },
   "file_extension": ".py",
   "mimetype": "text/x-python",
   "name": "python",
   "nbconvert_exporter": "python",
   "pygments_lexer": "ipython3",
   "version": "3.7.7"
  },
  "latex_envs": {
   "LaTeX_envs_menu_present": true,
   "autoclose": false,
   "autocomplete": true,
   "bibliofile": "biblio.bib",
   "cite_by": "apalike",
   "current_citInitial": 1,
   "eqLabelWithNumbers": true,
   "eqNumInitial": 1,
   "hotkeys": {
    "equation": "Ctrl-E",
    "itemize": "Ctrl-I"
   },
   "labels_anchors": false,
   "latex_user_defs": false,
   "report_style_numbering": false,
   "user_envs_cfg": false
  },
  "varInspector": {
   "cols": {
    "lenName": 16,
    "lenType": 16,
    "lenVar": 40
   },
   "kernels_config": {
    "python": {
     "delete_cmd_postfix": "",
     "delete_cmd_prefix": "del ",
     "library": "var_list.py",
     "varRefreshCmd": "print(var_dic_list())"
    },
    "r": {
     "delete_cmd_postfix": ") ",
     "delete_cmd_prefix": "rm(",
     "library": "var_list.r",
     "varRefreshCmd": "cat(var_dic_list()) "
    }
   },
   "types_to_exclude": [
    "module",
    "function",
    "builtin_function_or_method",
    "instance",
    "_Feature"
   ],
   "window_display": false
  }
 },
 "nbformat": 4,
 "nbformat_minor": 4
}