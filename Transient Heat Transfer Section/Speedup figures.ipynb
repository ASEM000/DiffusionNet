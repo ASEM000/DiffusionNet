{
 "cells": [
  {
   "cell_type": "markdown",
   "metadata": {},
   "source": [
    "# Reproduce speedup figures"
   ]
  },
  {
   "cell_type": "markdown",
   "metadata": {},
   "source": [
    "## Imports"
   ]
  },
  {
   "cell_type": "code",
   "execution_count": null,
   "metadata": {},
   "outputs": [],
   "source": [
    "import numpy as np\n",
    "from generator import *\n",
    "from solver import *\n",
    "from visualize import *\n",
    "from speedup_analysis import *\n",
    "import warnings\n",
    "warnings.filterwarnings(\"ignore\")"
   ]
  },
  {
   "cell_type": "markdown",
   "metadata": {},
   "source": [
    "## Load model for analysis"
   ]
  },
  {
   "cell_type": "code",
   "execution_count": null,
   "metadata": {},
   "outputs": [],
   "source": [
    "import  tensorflow\n",
    "import os\n",
    "from ipywidgets import *\n",
    "import time\n",
    "\n",
    "thisdir = 'SavedModels'\n",
    "models = []\n",
    "loaded_model =''\n",
    "for r, d, f in os.walk(thisdir):\n",
    "    for file in f:\n",
    "        if file.endswith(\".h5\"):\n",
    "            models.append(os.path.join(r, file))\n",
    "\n",
    "@interact(models=models)\n",
    "def load_model(models):\n",
    "    global loaded_model \n",
    "    loaded_model = tensorflow.keras.models.load_model(models,custom_objects={'LeakyReLU':tensorflow.keras.layers.LeakyReLU()})\n",
    "    print(f'{models} loaded !!')"
   ]
  },
  {
   "cell_type": "markdown",
   "metadata": {},
   "source": [
    "## Plot format"
   ]
  },
  {
   "cell_type": "code",
   "execution_count": null,
   "metadata": {},
   "outputs": [],
   "source": [
    "import matplotlib.pyplot as plt\n",
    "import tensorflow\n",
    "import numpy as np\n",
    "import matplotlib as mpl\n",
    "mpl.rcParams.update({\n",
    "    \"text.usetex\": False,  # True if latex is installed\n",
    "    \"font.family\": \"serif\",\n",
    "    \"font.serif\": [\"dejavuserif\"]})\n",
    "\n",
    "mpl.rcParams['figure.dpi'] = 72\n",
    "mpl.rcParams.update({'font.size': 35})\n",
    "mpl.rcParams['axes.linewidth'] = 2\n",
    "from matplotlib import ticker\n",
    "formatter = ticker.ScalarFormatter(useMathText=True)\n",
    "formatter.set_scientific(True)\n",
    "\n",
    "\n",
    "'''\n",
    "If latex is installed on the system -> uncomment\n",
    "\n",
    "'''\n",
    "# import matplotlib.pyplot as plt\n",
    "# # import torch\n",
    "# import tensorflow\n",
    "# import numpy as np\n",
    "# import matplotlib as mpl\n",
    "# mpl.rcParams.update({\n",
    "#     \"text.usetex\": False,  # True if latex is installed\n",
    "#     \"font.family\": \"sans-serif\",\n",
    "#     \"font.sans-serif\": [\"Helvetica\"]})\n",
    "\n",
    "# mpl.rcParams['figure.dpi'] = 72\n",
    "# mpl.rcParams.update({'font.size': 35})\n",
    "# mpl.rcParams['axes.linewidth'] = 2\n",
    "# from matplotlib import ticker\n",
    "# formatter = ticker.ScalarFormatter(useMathText=True)\n",
    "# formatter.set_scientific(True)"
   ]
  },
  {
   "cell_type": "markdown",
   "metadata": {},
   "source": [
    "### Speedup plots"
   ]
  },
  {
   "cell_type": "code",
   "execution_count": null,
   "metadata": {},
   "outputs": [],
   "source": [
    "@interact(speedup_analysis=['Iteration analysis','Grid Size analysis'],P=[10,100],grid_size=[12,24,48,96,192,960],start=False)\n",
    "def speedup_analysis(speedup_analysis,P,grid_size,start):\n",
    "    \n",
    "    if speedup_analysis == 'Iteration analysis' and start:\n",
    "        '''\n",
    "        Fixed grid size for iteration analysis = 960\n",
    "        P = prediction per step\n",
    "        K = number of deeplearning prediction\n",
    "        '''\n",
    "        \n",
    "        print('Analysis...')\n",
    "        iteration_solution,iteration_prediction,iteration_logs = iterations_speedup_analysis(loaded_model,grid_size=grid_size,P=P,K=10,max_iter=20)\n",
    "        \n",
    "        print('Plotting...')\n",
    "        plt.figure(figsize=(15,5))\n",
    "\n",
    "        iterations = np.array([ key for key in iteration_logs ] )\n",
    "        MAE_iterations = np.array([ iteration_logs[key]['MAE'] for key in iteration_logs ])\n",
    "        speedup_iterations = np.array([ iteration_logs[key]['NumericalTime']/iteration_logs[key]['PredictionTime'] for key in iteration_logs ])\n",
    "\n",
    "\n",
    "        m,b = np.polyfit(iterations,speedup_iterations,1)\n",
    "\n",
    "        fig, ax1 = plt.subplots(figsize=(15,7))\n",
    "\n",
    "        ax1.title.set_text(f'$Iterations - Speedup \\ for \\ P = 100$')\n",
    "        ax1.plot(iterations,m*iterations+b,'-k',linewidth=3)\n",
    "        ax1.scatter(iterations,speedup_iterations,color='black')\n",
    "        ax1.tick_params(axis='y', labelcolor='black')\n",
    "        ax1.set_ylabel('$Speedup$', color='black')\n",
    "        ax1.set_xlabel('$Iterations $', color='black')\n",
    "\n",
    "        ax2 = ax1.twinx()  \n",
    "        ax2.set_ylabel('$MAE$', color='red')  \n",
    "        ax2.plot(iterations, MAE_iterations,'-r',linewidth=3)\n",
    "        ax2.tick_params(axis='y', labelcolor='red')\n",
    "\n",
    "        fig.tight_layout()\n",
    "        \n",
    "    elif speedup_analysis == 'Grid Size analysis' and start :\n",
    "        print('Analysis...')\n",
    "        grid_solution,grid_prediction,grid_logs = gridsize_speedup_analysis(loaded_model,P=P,K=10,grids=np.arange(96,500,96))\n",
    "        \n",
    "        plt.figure(figsize=(15,5))\n",
    "        grids = np.arange(96,500,96)\n",
    "        MAE_grids= np.array([ grid_logs[key]['MAE'] for key in grid_logs ])\n",
    "        speedup_grids=np.array([grid_logs[key]['NumericalTime'] / grid_logs[key]['PredictionTime'] for key in grid_logs] )\n",
    "\n",
    "\n",
    "        fig, ax1 = plt.subplots(figsize=(15,7))\n",
    "\n",
    "        ax1.title.set_text(f'$Grid \\ size - Speedup \\ for \\ P = 100$')\n",
    "        ax1.plot(grids,speedup_grids,'-k',linewidth=3)\n",
    "        ax1.tick_params(axis='y', labelcolor='black')\n",
    "        ax1.set_ylabel('$Speedup$', color='black')\n",
    "        ax1.set_xlabel('$Grid \\ size \\ NXN$', color='black')\n",
    "\n",
    "        ax2 = ax1.twinx()  \n",
    "        ax2.set_ylabel('$MAE$', color='red')  \n",
    "        ax2.plot(grids, MAE_grids,'-r',linewidth=3)\n",
    "        ax2.tick_params(axis='y', labelcolor='red')\n",
    "\n",
    "        fig.tight_layout()  # otherwise the right y-label is slightly clipped\n",
    "        "
   ]
  }
 ],
 "metadata": {
  "kernelspec": {
   "display_name": "Python 3",
   "language": "python",
   "name": "python3"
  },
  "language_info": {
   "codemirror_mode": {
    "name": "ipython",
    "version": 3
   },
   "file_extension": ".py",
   "mimetype": "text/x-python",
   "name": "python",
   "nbconvert_exporter": "python",
   "pygments_lexer": "ipython3",
   "version": "3.7.7"
  }
 },
 "nbformat": 4,
 "nbformat_minor": 5
}