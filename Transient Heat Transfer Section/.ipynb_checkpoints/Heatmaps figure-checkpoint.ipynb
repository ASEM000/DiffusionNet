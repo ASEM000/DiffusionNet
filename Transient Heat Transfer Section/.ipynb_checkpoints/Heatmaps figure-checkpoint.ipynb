{
 "cells": [
  {
   "cell_type": "markdown",
   "metadata": {},
   "source": [
    "# Visualizing DiffusionNet vs Numerical solution"
   ]
  },
  {
   "cell_type": "code",
   "execution_count": 7,
   "metadata": {},
   "outputs": [],
   "source": [
    "import numpy as np\n",
    "from numba import jit\n",
    "from generator import *\n",
    "from visualize import *\n",
    "from solver import mae,mse,maxae\n",
    "\n",
    "import warnings\n",
    "warnings.filterwarnings(\"ignore\")"
   ]
  },
  {
   "cell_type": "markdown",
   "metadata": {},
   "source": [
    "# Load model used in visualization"
   ]
  },
  {
   "cell_type": "code",
   "execution_count": 3,
   "metadata": {},
   "outputs": [
    {
     "data": {
      "application/vnd.jupyter.widget-view+json": {
       "model_id": "e5fd389c694b4463900f6829ec062c78",
       "version_major": 2,
       "version_minor": 0
      },
      "text/plain": [
       "interactive(children=(Dropdown(description='models', options=('SavedModels\\\\step=10 12x12 loss=9e-4 11e-4.h5',…"
      ]
     },
     "metadata": {},
     "output_type": "display_data"
    }
   ],
   "source": [
    "import  tensorflow\n",
    "import os\n",
    "from ipywidgets import *\n",
    "import time\n",
    "\n",
    "thisdir = 'SavedModels'  # change to ReproducedModels if you want to test the reproduced trained models\n",
    "models = []\n",
    "loaded_model =''\n",
    "for r, d, f in os.walk(thisdir):\n",
    "    for file in f:\n",
    "        if file.endswith(\".h5\"):\n",
    "            models.append(os.path.join(r, file))\n",
    "\n",
    "@interact(models=models)\n",
    "def load_model(models):\n",
    "    global loaded_model \n",
    "    loaded_model = tensorflow.keras.models.load_model(models,custom_objects={'LeakyReLU':tensorflow.keras.layers.LeakyReLU()})\n",
    "    print(f'{models} loaded !!')"
   ]
  },
  {
   "cell_type": "markdown",
   "metadata": {},
   "source": [
    "# Visualize"
   ]
  },
  {
   "cell_type": "code",
   "execution_count": 18,
   "metadata": {},
   "outputs": [
    {
     "data": {
      "application/vnd.jupyter.widget-view+json": {
       "model_id": "86f1cb96c4d74b3f917aa20e4c95922a",
       "version_major": 2,
       "version_minor": 0
      },
      "text/plain": [
       "interactive(children=(Dropdown(description='step', options=(10, 100), value=10), Dropdown(description='grid_si…"
      ]
     },
     "metadata": {},
     "output_type": "display_data"
    }
   ],
   "source": [
    "import ipywidgets\n",
    "layout = ipywidgets.Layout(width= '100%',height='20px')\n",
    "\n",
    "'''\n",
    "Boundary condition slider\n",
    "\n",
    " ######bc3######\n",
    " #             #\n",
    " #             #\n",
    "bc4   ic0    bc2\n",
    " #             #\n",
    " #             #  \n",
    " ######bc1######\n",
    "\n",
    "Lambda = k*dt/(dx*dx)\n",
    "\n",
    "'''\n",
    "\n",
    "@jit(nopython=True,cache=True)\n",
    "def pad_grids(grids,Lambda):\n",
    "    grids[:,0,0]=grids[:,-1,0]=grids[:,0,-1]=grids[:,-1,-1]=Lambda * 1000\n",
    "    return grids\n",
    "\n",
    "\n",
    "\n",
    "bc1 = ipywidgets.IntSlider(min=0,max=1000,value = 600,step=1,description='bc1 # ' ,layout=layout,continuous_update=False)\n",
    "bc2 = ipywidgets.IntSlider(min=0,max=1000,value=500,step=1,description='bc2 # ' ,layout=layout,continuous_update=False)\n",
    "bc3 = ipywidgets.IntSlider(min=0,max=1000,value=194,step=1,description='bc3 # ' ,layout=layout,continuous_update=False)\n",
    "bc4 = ipywidgets.IntSlider(min=0,max=1000,step=1,value=248,description='bc4 # ' ,layout=layout,continuous_update=False)\n",
    "ic0 = ipywidgets.IntSlider(min=0,max=1000,step=1,value=254,description='ic # ' ,layout=layout,continuous_update=False)\n",
    "lam = ipywidgets.FloatSlider(min=0,max=0.5,value=0.27047,step=0.00001,description='lambda # ' ,layout=layout,continuous_update=False,readout_format='.5f')\n",
    "\n",
    "\n",
    "t00 = ipywidgets.IntSlider(min=0,max=10_000,step=1,value=10,description='t00 # ' ,layout=layout,continuous_update=False)\n",
    "\n",
    "@ipywidgets.interact(step=[10,100],grid_size=[12,24,48,96,192],bc1=bc1,bc2=bc2,bc3=bc3,bc4=bc4,ic0=ic0,lam=lam,t00=t00,analyze=False,plot=False,save=False)\n",
    "def compare_solution(step,grid_size,bc1,bc2,bc3,bc4,ic0,lam,t00,analyze=False,plot=False,save=False):\n",
    "    size = grid_size\n",
    "    mean = 5_00\n",
    "    std  = 2_50\n",
    "    step = step\n",
    "    total_step = 10\n",
    "    '''\n",
    "    generate the adi solution in shape of \n",
    "    (frames , rows ,cols)\n",
    "    '''\n",
    "    grid = generate_grid( size - 2 , bc =(bc1,bc2,bc3,bc4),ic=ic0)\n",
    "    tic = time.time()\n",
    "    adi_solution = solve(grid.copy(), iters = t00+step*total_step ,Lambda= lam ,steps=True)\n",
    "    toc = time.time()\n",
    "    \n",
    "    print(f'Numerical solution is excuted in : \\t{(toc-tic)*1e3} ms')\n",
    "    \n",
    "    '''\n",
    "    model expects scaled input 5d tensor in shape of \n",
    "    ( sample size , frames number , rows , cols , channels )\n",
    "    standard scaling using mean = 500  ,std = 250\n",
    "    '''\n",
    "    if analyze :\n",
    "        model_input = pad_grids(adi_solution,lam)   #pad\n",
    "        model_input = ( adi_solution[t00:t00+1,:,:] - mean ) / std  #scale \n",
    "        model_input = model_input.reshape(1,1,size,size,1)        #reshape to 5d tensor\n",
    "\n",
    "        prediction_solutions = {}\n",
    "        \n",
    "        tic = time.time() ; \n",
    "        prediction_solutions[0] = loaded_model.predict(model_input) ; \n",
    "        \n",
    "        for i in range(1,total_step):\n",
    "            prediction_solutions[i] = loaded_model.predict(prediction_solutions[i-1])\n",
    "            prediction_solutions[i-1] = ( prediction_solutions[i-1] * std ) + mean\n",
    "        prediction_solutions[total_step-1] = ( prediction_solutions[total_step-1] * std ) + mean\n",
    "        \n",
    "        toc = time.time()  #predict\n",
    "        \n",
    "        print(f'Deep learning prediction is excuted in :{(toc-tic)*1e3} ms')\n",
    "        \n",
    "        print('MAE error:\\t\\t\\t\\t',mae(adi_solution[t00+step*(0+1),1:-1,1:-1],prediction_solutions[0][0,0,1:-1,1:-1,0]))\n",
    "        print('MSE error:\\t\\t\\t\\t',mse(adi_solution[t00+step*(0+1),1:-1,1:-1],prediction_solutions[0][0,0,1:-1,1:-1,0]))\n",
    "        print('Max Absolute error:\\t\\t\\t',maxae(adi_solution[t00+step*(0+1),1:-1,1:-1],prediction_solutions[0][0,0,1:-1,1:-1,0]))\n",
    "        print('Data Mean\\t\\t\\t\\t',np.mean(adi_solution))\n",
    "        print('Data Standard deviation\\t\\t\\t',np.std(adi_solution))\n",
    "\n",
    "        if plot :\n",
    "            if save :\n",
    "                path = f'bc={bc1},{bc2},{bc3},{bc4},{ic0}-lam={int(lam*10000)}e-6-t00={t00}.svg' \n",
    "                cp = 'SavedFigures/correct '+ path\n",
    "                pp = 'SavedFigures/prediction ' + path\n",
    "                dp = 'SavedFigures/difference ' + path\n",
    "            else: \n",
    "                path = None\n",
    "                cp=pp=dp=None\n",
    "\n",
    "\n",
    "            grids_true =[(adi_solution[t00+step*(i)],f'$Correct \\ @ \\ Step={t00+step*(i)}$') for i in range(5)]\n",
    "            grids_pred =[ (adi_solution[t00+step*(0)],f'$Input \\ @ \\ Step={t00+step*(0)}$')]\n",
    "            grids_pred.extend([ ( prediction_solutions[i][0,0,:,:,0],f'$Prediction \\ @ \\ Step={t00+step*(1+i)}$') for i in range(4)])\n",
    "            \n",
    "            grids_diff = [((adi_solution[t00+step*(0)] - adi_solution[t00+step*(0)] ) ,f'$Difference \\ @ \\ Step={t00+step*(0)}$')]\n",
    "            grids_diff.extend([( np.abs(adi_solution[t00+step*(i+1)] - prediction_solutions[i][0,0,:,:,0] ) ,f'$Difference @ \\\\  Step={t00+step*(1+i)}$') for i in range(4)])\n",
    "             \n",
    "            show_heat_maps(*grids_true,figsize=(20,10),annotate=False,save=cp) # Correct solution\n",
    "            show_heat_maps(*grids_pred,figsize=(20,10),annotate=False,save=pp) # prediction solution\n",
    "            show_heat_maps(*grids_diff,figsize=(20,10),annotate=False,save=dp) # solution solution\n",
    "\n"
   ]
  }
 ],
 "metadata": {
  "kernelspec": {
   "display_name": "Python 3",
   "language": "python",
   "name": "python3"
  },
  "language_info": {
   "codemirror_mode": {
    "name": "ipython",
    "version": 3
   },
   "file_extension": ".py",
   "mimetype": "text/x-python",
   "name": "python",
   "nbconvert_exporter": "python",
   "pygments_lexer": "ipython3",
   "version": "3.7.7"
  }
 },
 "nbformat": 4,
 "nbformat_minor": 5
}
