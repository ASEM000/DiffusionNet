{
 "cells": [
  {
   "cell_type": "markdown",
   "metadata": {},
   "source": [
    "# Loss plots figures"
   ]
  },
  {
   "cell_type": "code",
   "execution_count": null,
   "metadata": {},
   "outputs": [],
   "source": [
    "import numpy as np\n",
    "from generator import *\n",
    "from solver import *\n",
    "from visualize import *\n",
    "from speedup_analysis import *\n",
    "import os\n",
    "import pickle\n",
    "import warnings\n",
    "from ipywidgets import *\n",
    "warnings.filterwarnings(\"ignore\")\n"
   ]
  },
  {
   "cell_type": "markdown",
   "metadata": {},
   "source": [
    "## Format plot"
   ]
  },
  {
   "cell_type": "code",
   "execution_count": null,
   "metadata": {},
   "outputs": [],
   "source": [
    "\n",
    "\n",
    "import matplotlib.pyplot as plt\n",
    "import tensorflow\n",
    "import numpy as np\n",
    "import matplotlib as mpl\n",
    "mpl.rcParams.update({\n",
    "    \"text.usetex\": False,  # True if latex is installed\n",
    "    \"font.family\": \"serif\",\n",
    "    \"font.serif\": [\"dejavuserif\"]})\n",
    "\n",
    "mpl.rcParams['figure.dpi'] = 72\n",
    "mpl.rcParams.update({'font.size': 35})\n",
    "mpl.rcParams['axes.linewidth'] = 2\n",
    "from matplotlib import ticker\n",
    "formatter = ticker.ScalarFormatter(useMathText=True)\n",
    "formatter.set_scientific(True)\n",
    "\n",
    "\n",
    "'''\n",
    "If latex is installed on the system -> uncomment\n",
    "\n",
    "'''\n",
    "# import matplotlib.pyplot as plt\n",
    "# # import torch\n",
    "# import tensorflow\n",
    "# import numpy as np\n",
    "# import matplotlib as mpl\n",
    "# mpl.rcParams.update({\n",
    "#     \"text.usetex\": False,  # True if latex is installed\n",
    "#     \"font.family\": \"sans-serif\",\n",
    "#     \"font.sans-serif\": [\"Helvetica\"]})\n",
    "\n",
    "# mpl.rcParams['figure.dpi'] = 72\n",
    "# mpl.rcParams.update({'font.size': 35})\n",
    "# mpl.rcParams['axes.linewidth'] = 2\n",
    "# from matplotlib import ticker\n",
    "# formatter = ticker.ScalarFormatter(useMathText=True)\n",
    "# formatter.set_scientific(True)"
   ]
  },
  {
   "cell_type": "markdown",
   "metadata": {},
   "source": [
    "## Load and plot loss plot"
   ]
  },
  {
   "cell_type": "code",
   "execution_count": null,
   "metadata": {},
   "outputs": [],
   "source": [
    "thisdir = 'SavedLogs'\n",
    "logs_paths=[]\n",
    "log = [] \n",
    "size =12 ; P =10\n",
    "for r, d, f in os.walk(thisdir):\n",
    "    for file in f:\n",
    "        if file.endswith(\".log\"):\n",
    "            logs_paths.append(os.path.join(r, file))\n",
    "\n",
    "@interact(logs=logs_paths,plot=False)\n",
    "def load_and_plot_data(logs,plot):\n",
    "    global log , size,P\n",
    "    \n",
    "    size = int(logs[-6:-4])\n",
    "    try : P = int(logs[-13:-10]) ; \n",
    "    except : P = int(logs[-12:-10])\n",
    "        \n",
    "    with open(logs,\"r\") as file :\n",
    "        next(file)\n",
    "        log = []\n",
    "        for line in file:\n",
    "            log.append(list(map(float,line.split(','))))\n",
    "    print(f'{logs} loaded !')\n",
    "    \n",
    "    if plot :\n",
    "        \n",
    "        epochs,mae,lr,mae_val =np.array(list(zip(*log[1:]))[0]) ,np.array(list(zip(*log[1:]))[1]),np.array(list(zip(*log[1:]))[2]),np.array(list(zip(*log[1:]))[3])\n",
    "        fig, ax1 = plt.subplots(figsize=(15,7))\n",
    "        ax1.title.set_text(f'${size} X {size} , P = {P}$')\n",
    "\n",
    "        ax1.plot( epochs,mae*250,'-k',linewidth=3)\n",
    "        ax1.plot( epochs,mae_val*250,'--k',linewidth=3)\n",
    "        ax1.tick_params(axis='y', labelcolor='black')\n",
    "        ax1.ticklabel_format(axis=\"y\", style=\"sci\", scilimits=(0,0))\n",
    "        ax1.set_ylabel('$MAE$', color='black') \n",
    "\n",
    "        ax2 = ax1.twinx()  \n",
    "        ax2.set_ylabel('$Learning  \\ rate$', color='red')  \n",
    "        ax2.plot(epochs, lr,'-r',linewidth=3)\n",
    "        ax2.tick_params(axis='y', labelcolor='red')\n",
    "        ax2.ticklabel_format(axis=\"y\", style=\"sci\", scilimits=(0,0))\n",
    "        fig.tight_layout()  # otherwise the right y-label is slightly clipped\n",
    "\n",
    "        ax1.legend([f'$train \\  loss $','$val\\ loss$'],loc='upper right')"
   ]
  }
 ],
 "metadata": {
  "kernelspec": {
   "display_name": "Python 3",
   "language": "python",
   "name": "python3"
  },
  "language_info": {
   "codemirror_mode": {
    "name": "ipython",
    "version": 3
   },
   "file_extension": ".py",
   "mimetype": "text/x-python",
   "name": "python",
   "nbconvert_exporter": "python",
   "pygments_lexer": "ipython3",
   "version": "3.7.7"
  }
 },
 "nbformat": 4,
 "nbformat_minor": 4
}